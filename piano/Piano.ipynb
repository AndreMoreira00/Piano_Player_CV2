{
 "cells": [
  {
   "cell_type": "markdown",
   "metadata": {},
   "source": [
    "# Piano PLayer 🎹"
   ]
  },
  {
   "cell_type": "markdown",
   "metadata": {},
   "source": [
    "### Imports"
   ]
  },
  {
   "cell_type": "code",
   "execution_count": 31,
   "metadata": {},
   "outputs": [],
   "source": [
    "import cv2\n",
    "import os\n",
    "\n",
    "import mediapipe as mp\n",
    "from mediapipe.tasks import python\n",
    "from mediapipe.tasks.python import vision\n",
    "\n",
    "from threading import Thread\n",
    "\n",
    "from playsound import playsound\n",
    "\n",
    "import math"
   ]
  },
  {
   "cell_type": "markdown",
   "metadata": {},
   "source": [
    "### List of Sounds"
   ]
  },
  {
   "cell_type": "code",
   "execution_count": 32,
   "metadata": {},
   "outputs": [],
   "source": [
    "Sounds = os.listdir(\"../sounds\")"
   ]
  },
  {
   "cell_type": "markdown",
   "metadata": {},
   "source": [
    "### Functions"
   ]
  },
  {
   "cell_type": "code",
   "execution_count": 34,
   "metadata": {},
   "outputs": [],
   "source": [
    "def calculate_distance(ponto1, ponto2):\n",
    "    return math.sqrt((ponto1[0] - ponto2[0])**2 + (ponto1[1] - ponto2[1])**2)"
   ]
  },
  {
   "cell_type": "markdown",
   "metadata": {},
   "source": [
    "### Piano"
   ]
  },
  {
   "cell_type": "code",
   "execution_count": 35,
   "metadata": {},
   "outputs": [],
   "source": [
    "class PianoPlayer:\n",
    "  def __init__(self, num_keys):\n",
    "    \n",
    "    if num_keys > 28 and num_keys <= 0:\n",
    "      Exception(\"Numero de teclas não aceitavel\")\n",
    "    else:\n",
    "      self.num_keys = num_keys\n",
    "      \n",
    "    self.audio_executed = [False] * num_keys\n",
    "    \n",
    "  def read_keys(self):\n",
    "    for x in range(1, self.num_keys):\n",
    "      cv2.circle(frame,(0+(x*80),50), 5, (0,0,255), -1)\n",
    "    \n",
    "  def play_sound(self, x):\n",
    "    self.audio_executed[x-1] = True\n",
    "    playsound(f'C:/Users/andre/OneDrive/Documentos/piano/sounds/{Sounds[int(28 / (2 + self.num_keys - (1*x)))+x]}')\n",
    "    \n",
    "  def key_press(self, indicador_x, indicador_y):\n",
    "    for x in range(1, self.num_keys):\n",
    "      if calculate_distance((indicador_x, indicador_y), (0+(x*80),50)) <= 5 and not self.audio_executed[x-1]:\n",
    "        self.audio_executed[x-1] = True\n",
    "        self.play_sound(x)\n",
    "        self.audio_executed[x-1] = False\n",
    "      elif calculate_distance((indicador_x, indicador_y), (0+(x*80),50)) >= 40:\n",
    "        self.audio_executed[x-1] = False\n",
    "        "
   ]
  },
  {
   "cell_type": "markdown",
   "metadata": {},
   "source": [
    "- ##### Key numbers are one unit less than selected"
   ]
  },
  {
   "cell_type": "code",
   "execution_count": 36,
   "metadata": {},
   "outputs": [],
   "source": [
    "piano = PianoPlayer(7)"
   ]
  },
  {
   "cell_type": "markdown",
   "metadata": {},
   "source": [
    "### Configure Hands"
   ]
  },
  {
   "cell_type": "code",
   "execution_count": 37,
   "metadata": {},
   "outputs": [],
   "source": [
    "mp_hands = mp.solutions.hands\n",
    "hands = mp_hands.Hands(static_image_mode=False,\n",
    "                       max_num_hands=1,\n",
    "                       min_detection_confidence=0.5,\n",
    "                       min_tracking_confidence=0.5)\n",
    "\n",
    "mp_drawing = mp.solutions.drawing_utils"
   ]
  },
  {
   "cell_type": "markdown",
   "metadata": {},
   "source": [
    "### CV2 "
   ]
  },
  {
   "cell_type": "code",
   "execution_count": 38,
   "metadata": {},
   "outputs": [],
   "source": [
    "cap = cv2.VideoCapture(0)\n",
    "\n",
    "while cap.isOpened():\n",
    "  \n",
    "  ret, frame = cap.read()\n",
    "  \n",
    "  if not ret:\n",
    "      print(\"Erro ao capturar o frame.\")\n",
    "      break\n",
    "    \n",
    "  # Read Keys\n",
    "  piano.read_keys()\n",
    "  \n",
    "  rgb_frame = cv2.cvtColor(frame, cv2.COLOR_BGR2RGB)\n",
    "  results = hands.process(rgb_frame)\n",
    "\n",
    "  if results.multi_hand_landmarks and results.multi_handedness:\n",
    "    \n",
    "    for hand_landmarks, hand_handedness in zip(results.multi_hand_landmarks, results.multi_handedness):\n",
    "      \n",
    "      hand_label = hand_handedness.classification[0].label\n",
    "      \n",
    "      h, w, _ = frame.shape\n",
    "      \n",
    "      # Point hand\n",
    "      indicador = hand_landmarks.landmark[8]\n",
    "      indicador_x, indicador_y = int(indicador.x * w), int(indicador.y * h)\n",
    "\n",
    "      # Piano Press Key ?\n",
    "      Thread(target=piano.key_press, args=(indicador_x, indicador_y,), daemon=True).start()\n",
    "      \n",
    "      mp_drawing.draw_landmarks(frame, hand_landmarks, mp_hands.HAND_CONNECTIONS)\n",
    "      \n",
    "  cv2.imshow(\"MediaPipe Hands - Gestos Especificos\", frame) \n",
    "  \n",
    "  if cv2.waitKey(1) & 0xFF == ord('q'):\n",
    "    break\n",
    "\n",
    "cap.release()\n",
    "cv2.destroyAllWindows()"
   ]
  }
 ],
 "metadata": {
  "kernelspec": {
   "display_name": "Python 3",
   "language": "python",
   "name": "python3"
  },
  "language_info": {
   "codemirror_mode": {
    "name": "ipython",
    "version": 3
   },
   "file_extension": ".py",
   "mimetype": "text/x-python",
   "name": "python",
   "nbconvert_exporter": "python",
   "pygments_lexer": "ipython3",
   "version": "3.9.7"
  }
 },
 "nbformat": 4,
 "nbformat_minor": 2
}
