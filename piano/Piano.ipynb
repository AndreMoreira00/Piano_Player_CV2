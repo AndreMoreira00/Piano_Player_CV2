{
 "cells": [
  {
   "cell_type": "markdown",
   "metadata": {},
   "source": [
    "# Piano PLayer 🎹"
   ]
  },
  {
   "cell_type": "code",
   "execution_count": 59,
   "metadata": {},
   "outputs": [],
   "source": [
    "import cv2\n",
    "import os\n",
    "\n",
    "import mediapipe as mp\n",
    "from mediapipe.tasks import python\n",
    "from mediapipe.tasks.python import vision\n",
    "\n",
    "from threading import Thread\n",
    "\n",
    "from playsound import playsound\n",
    "\n",
    "import math"
   ]
  },
  {
   "cell_type": "markdown",
   "metadata": {},
   "source": [
    "### List of Sounds"
   ]
  },
  {
   "cell_type": "code",
   "execution_count": 60,
   "metadata": {},
   "outputs": [],
   "source": [
    "Sounds = os.listdir(\"../sounds\")"
   ]
  },
  {
   "cell_type": "markdown",
   "metadata": {},
   "source": [
    "### Functions"
   ]
  },
  {
   "cell_type": "code",
   "execution_count": 61,
   "metadata": {},
   "outputs": [],
   "source": [
    "def calculate_distance(ponto1, ponto2):\n",
    "    return math.sqrt((ponto1[0] - ponto2[0])**2 + (ponto1[1] - ponto2[1])**2)"
   ]
  },
  {
   "cell_type": "markdown",
   "metadata": {},
   "source": [
    "### Piano"
   ]
  },
  {
   "cell_type": "code",
   "execution_count": 62,
   "metadata": {},
   "outputs": [],
   "source": [
    "class PianoPlayer:\n",
    "  def __init__(self):\n",
    "    self.audio_executed = False\n",
    "    \n",
    "  def read_keys(self):\n",
    "    for x in range(1, 5):\n",
    "      cv2.circle(frame,(0+(x*80),50), 5, (0,0,255), -1)\n",
    "    \n",
    "  def play_sound(self, x):\n",
    "    self.audio_executed = True\n",
    "    playsound(f'C:/Users/andre/OneDrive/Documentos/piano/sounds/{Sounds[x]}')\n",
    "    self.audio_executed = False\n",
    "  \n",
    "  def key_press(self, indicador_x, indicador_y):\n",
    "    for x in range(1, 5):\n",
    "      if calculate_distance((indicador_x, indicador_y), (0+(x*80),50)) <= 5 and not self.audio_executed:\n",
    "        self.audio_executed = True\n",
    "        self.play_sound(x)\n",
    "      elif calculate_distance((indicador_x, indicador_y), (0+(x*80),50)) > 50:\n",
    "        self.audio_executed = False"
   ]
  },
  {
   "cell_type": "code",
   "execution_count": 63,
   "metadata": {},
   "outputs": [],
   "source": [
    "piano = PianoPlayer()"
   ]
  },
  {
   "cell_type": "markdown",
   "metadata": {},
   "source": [
    "### Configure Hands"
   ]
  },
  {
   "cell_type": "code",
   "execution_count": 64,
   "metadata": {},
   "outputs": [],
   "source": [
    "mp_hands = mp.solutions.hands\n",
    "hands = mp_hands.Hands(static_image_mode=False,\n",
    "                       max_num_hands=2,\n",
    "                       min_detection_confidence=0.5,\n",
    "                       min_tracking_confidence=0.5)\n",
    "\n",
    "mp_drawing = mp.solutions.drawing_utils"
   ]
  },
  {
   "cell_type": "markdown",
   "metadata": {},
   "source": [
    "### CV2 "
   ]
  },
  {
   "cell_type": "code",
   "execution_count": 65,
   "metadata": {},
   "outputs": [],
   "source": [
    "cap = cv2.VideoCapture(0)\n",
    "\n",
    "while cap.isOpened():\n",
    "  \n",
    "  ret, frame = cap.read()\n",
    "  \n",
    "  if not ret:\n",
    "      print(\"Erro ao capturar o frame.\")\n",
    "      break\n",
    "    \n",
    "  # Read Keys\n",
    "  piano.read_keys()\n",
    "  \n",
    "  rgb_frame = cv2.cvtColor(frame, cv2.COLOR_BGR2RGB)\n",
    "  results = hands.process(rgb_frame)\n",
    "\n",
    "  if results.multi_hand_landmarks and results.multi_handedness:\n",
    "    \n",
    "    for hand_landmarks, hand_handedness in zip(results.multi_hand_landmarks, results.multi_handedness):\n",
    "      \n",
    "      hand_label = hand_handedness.classification[0].label\n",
    "      \n",
    "      h, w, _ = frame.shape\n",
    "      \n",
    "      # Point hand\n",
    "      indicador = hand_landmarks.landmark[8]\n",
    "      indicador_x, indicador_y = int(indicador.x * w), int(indicador.y * h)\n",
    "\n",
    "      # Piano Press Key ?\n",
    "      piano.key_press(indicador_x, indicador_y)\n",
    "      \n",
    "      mp_drawing.draw_landmarks(frame, hand_landmarks, mp_hands.HAND_CONNECTIONS)\n",
    "      \n",
    "  cv2.imshow(\"MediaPipe Hands - Gestos Especificos\", frame) \n",
    "  \n",
    "  if cv2.waitKey(1) & 0xFF == ord('q'):\n",
    "    break\n",
    "\n",
    "cap.release()\n",
    "cv2.destroyAllWindows()"
   ]
  },
  {
   "cell_type": "markdown",
   "metadata": {},
   "source": [
    "## Functions"
   ]
  },
  {
   "cell_type": "code",
   "execution_count": 66,
   "metadata": {},
   "outputs": [],
   "source": [
    "# def calculate_distance(ponto1, ponto2):\n",
    "#     return math.sqrt((ponto1[0] - ponto2[0])**2 + (ponto1[1] - ponto2[1])**2)"
   ]
  },
  {
   "cell_type": "code",
   "execution_count": 67,
   "metadata": {},
   "outputs": [],
   "source": [
    "# def Rules(distance):\n",
    "#   global audio_executed\n",
    "#   if distance < 5 and not audio_executed:\n",
    "#     audio_executed = True\n",
    "#     playsound('C:/Users/andre/OneDrive/Documentos/piano/sounds/0_G1.mp3')\n",
    "#     audio_executed = False\n",
    "#   elif distance > 50:\n",
    "#     audio_executed = False"
   ]
  },
  {
   "cell_type": "code",
   "execution_count": 68,
   "metadata": {},
   "outputs": [],
   "source": [
    "# def Keys():\n",
    "#   p1 = cv2.circle(frame,(80,50), 5, (0,0,255), -1)\n",
    "  \n",
    "#   p2 = cv2.circle(frame,(160,50), 5, (0,0,255), -1)\n",
    "  \n",
    "#   p3 = cv2.circle(frame,(240,50), 5, (0,0,255), -1)\n",
    "  \n",
    "#   p4 = cv2.circle(frame,(320,50), 5, (0,0,255), -1)\n",
    "  \n",
    "#   p5 = cv2.circle(frame,(400,50), 5, (0,0,255), -1)"
   ]
  },
  {
   "cell_type": "markdown",
   "metadata": {},
   "source": [
    "## Configure Hands"
   ]
  },
  {
   "cell_type": "code",
   "execution_count": 69,
   "metadata": {},
   "outputs": [],
   "source": [
    "# mp_hands = mp.solutions.hands\n",
    "# hands = mp_hands.Hands(static_image_mode=False,\n",
    "#                        max_num_hands=2,\n",
    "#                        min_detection_confidence=0.5,\n",
    "#                        min_tracking_confidence=0.5)\n",
    "\n",
    "# mp_drawing = mp.solutions.drawing_utils"
   ]
  },
  {
   "cell_type": "code",
   "execution_count": 70,
   "metadata": {},
   "outputs": [],
   "source": [
    "# cap = cv2.VideoCapture(0)\n",
    "\n",
    "# while cap.isOpened():\n",
    "  \n",
    "#   ret, frame = cap.read()\n",
    "  \n",
    "#   if not ret:\n",
    "#       print(\"Erro ao capturar o frame.\")\n",
    "#       break\n",
    "    \n",
    "#   # Points\n",
    "#   Keys()\n",
    "  \n",
    "#   rgb_frame = cv2.cvtColor(frame, cv2.COLOR_BGR2RGB)\n",
    "#   results = hands.process(rgb_frame)\n",
    "\n",
    "#   if results.multi_hand_landmarks and results.multi_handedness:\n",
    "    \n",
    "#     for hand_landmarks, hand_handedness in zip(results.multi_hand_landmarks, results.multi_handedness):\n",
    "      \n",
    "#       hand_label = hand_handedness.classification[0].label\n",
    "      \n",
    "#       h, w, _ = frame.shape\n",
    "      \n",
    "#       # Point hand\n",
    "#       indicador_8 = hand_landmarks.landmark[8]\n",
    "#       indicador_8_x, indicador_8_y = int(indicador_8.x * w), int(indicador_8.y * h)\n",
    "      \n",
    "#       distance = calculate_distance(\n",
    "#         (indicador_8_x, indicador_8_y),\n",
    "#         (80, 50)\n",
    "#       )\n",
    "      \n",
    "#       # Sounds\n",
    "      \n",
    "#       # Rules \n",
    "#       rules = Thread(target=Rules, args=(distance,), daemon=True)\n",
    "#       rules.start()\n",
    "      \n",
    "#       mp_drawing.draw_landmarks(frame, hand_landmarks, mp_hands.HAND_CONNECTIONS)\n",
    "      \n",
    "#   cv2.imshow(\"MediaPipe Hands - Gestos Especificos\", frame) \n",
    "  \n",
    "#   if cv2.waitKey(1) & 0xFF == ord('q'):\n",
    "#     break\n",
    "\n",
    "# cap.release()\n",
    "# cv2.destroyAllWindows()"
   ]
  }
 ],
 "metadata": {
  "kernelspec": {
   "display_name": "Python 3",
   "language": "python",
   "name": "python3"
  },
  "language_info": {
   "codemirror_mode": {
    "name": "ipython",
    "version": 3
   },
   "file_extension": ".py",
   "mimetype": "text/x-python",
   "name": "python",
   "nbconvert_exporter": "python",
   "pygments_lexer": "ipython3",
   "version": "3.9.7"
  }
 },
 "nbformat": 4,
 "nbformat_minor": 2
}
